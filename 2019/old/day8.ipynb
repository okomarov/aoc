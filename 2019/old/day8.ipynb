{
 "nbformat": 4,
 "nbformat_minor": 2,
 "metadata": {
  "hide_input": false,
  "language_info": {
   "name": "python",
   "pygments_lexer": "ipython3"
  }
 },
 "cells": [
  {
   "cell_type": "code",
   "execution_count": null,
   "metadata": {},
   "outputs": [],
   "source": []
  }
 ]
}
