{
 "cells": [
  {
   "cell_type": "code",
   "execution_count": null,
   "metadata": {},
   "outputs": [],
   "source": [
    "import pandas as pd\n",
    "import numpy as np\n",
    "from dateutil.parser import parse\n",
    "\n",
    "pwd_range = [236491, 713787]\n",
    "\n",
    "np.log10(10)\n",
    "\n",
    "pwds = set()\n",
    "for n in range(236491, 713787):\n",
    "    digits = np.array([int(d) for d in str(n)])\n",
    "    print(digits)\n",
    "    diff = np.diff(digits)\n",
    "    increasing = np.all(diff>=0)\n",
    "    has_adjacent_dgts = any(diff == 0)\n",
    "    if increasing and has_adjacent_dgts:\n",
    "        for st, en in zip(*start_end(diff == 0)):\n",
    "            if en == st:\n",
    "                pwds.add(n)\n",
    "        \n",
    "\n",
    "len(pwds)\n",
    "    \n",
    "\n",
    "# [int(d) for d in str(n)]"
   ]
  },
  {
   "cell_type": "code",
   "execution_count": null,
   "metadata": {},
   "outputs": [],
   "source": [
    "def start_end(tf):\n",
    "    \"\"\"Find start and end indices of running streaks of True values\"\"\"\n",
    "    if isinstance(tf, pd.Series):\n",
    "        tf = tf.array\n",
    "    n = len(tf)\n",
    "\n",
    "    tf = np.insert(tf, [0, len(tf)], [False, False])    \n",
    "\n",
    "    # 01 and 10 masks\n",
    "    start_mask = (tf[:-1] == 0) & (tf[1:] == 1)\n",
    "    end_mask = (tf[:-1] == 1) & (tf[1:] == 0)\n",
    "\n",
    "    # Locations\n",
    "    start_loc = np.where(start_mask)[0]\n",
    "    end_loc = np.minimum(np.where(end_mask)[0] - 1, n-1)\n",
    "\n",
    "    return start_loc, end_loc\n",
    "\n",
    "start_end(np.array([0,0,0,1,1,1, 0, 1,1]))"
   ]
  },
  {
   "cell_type": "code",
   "execution_count": null,
   "metadata": {},
   "outputs": [],
   "source": [
    "from collections import Counter\n",
    "\n",
    "Counter(str(296499))\n"
   ]
  }
 ],
 "metadata": {
  "hide_input": false,
  "language_info": {
   "name": "python",
   "pygments_lexer": "ipython3"
  }
 },
 "nbformat": 4,
 "nbformat_minor": 2
}
